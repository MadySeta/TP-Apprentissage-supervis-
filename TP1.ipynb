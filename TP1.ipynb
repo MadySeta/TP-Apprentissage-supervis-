{
 "cells": [
  {
   "cell_type": "code",
   "execution_count": 1,
   "metadata": {},
   "outputs": [],
   "source": [
    "import pandas as pd\n",
    "from sklearn.utils import shuffle\n",
    "from sklearn.preprocessing import StandardScaler\n",
    "from sklearn.model_selection import train_test_split, KFold, cross_val_score, GridSearchCV\n",
    "from sklearn.svm import SVC\n",
    "from sklearn.metrics import accuracy_score, confusion_matrix, classification_report\n",
    "import numpy as np\n",
    "from sklearn.ensemble import RandomForestClassifier, GradientBoostingClassifier, AdaBoostClassifier\n",
    "\n",
    "# Préparation des données\n",
    "\n",
    "X_all = pd.read_csv(\"acsincome_ca_features.csv\")\n",
    "y_all = pd.read_csv(\"acsincome_ca_labels.csv\")\n",
    "\n",
    "X_all, y_all = shuffle(X_all, y_all, random_state=1)\n",
    "\n",
    "# only use the first N samples to limit training time\n",
    "num_samples = int(len(X_all)*0.01)\n",
    "X, y = X_all[:num_samples], y_all[:num_samples]\n",
    "\n",
    "X_train, X_test, y_train, y_test = train_test_split(X, y, test_size=0.20, random_state=1)\n",
    "\n",
    "scaler = StandardScaler()\n",
    "\n",
    "X_train = scaler.fit_transform(X_train)\n",
    "y_train = y_train['PINCP'].values\n",
    "\n",
    "X_test = scaler.transform(X_test)\n",
    "y_test = y_test['PINCP'].values"
   ]
  },
  {
   "cell_type": "markdown",
   "metadata": {},
   "source": [
    "# 1 - Comparaison des différents modèles"
   ]
  },
  {
   "cell_type": "markdown",
   "metadata": {},
   "source": [
    "## SVM"
   ]
  },
  {
   "cell_type": "code",
   "execution_count": 2,
   "metadata": {
    "tags": []
   },
   "outputs": [
    {
     "name": "stdout",
     "output_type": "stream",
     "text": [
      "Meilleurs hyperparamètres :  {'C': 1, 'gamma': 'auto', 'kernel': 'rbf'}\n",
      "Accuracy :  0.7551020408163265\n",
      " Rapport de classification : \n",
      "              precision    recall  f1-score   support\n",
      "\n",
      "       False       0.76      0.81      0.79       220\n",
      "        True       0.74      0.68      0.71       172\n",
      "\n",
      "    accuracy                           0.76       392\n",
      "   macro avg       0.75      0.75      0.75       392\n",
      "weighted avg       0.75      0.76      0.75       392\n",
      "\n",
      "Confusion matrix : \n",
      "[[179  41]\n",
      " [ 55 117]]\n"
     ]
    }
   ],
   "source": [
    "svm_model = SVC()\n",
    "\n",
    "kf = KFold(n_splits=5, shuffle=True, random_state=1)\n",
    "\n",
    "parameters = {\n",
    "    'C': [ 0.1, 1, 10, 10],\n",
    "    'kernel' : [ 'poly', 'rbf', 'sigmoid'],\n",
    "    'gamma' : ['scale', 'auto']\n",
    "}\n",
    "\n",
    "grid_search_svm = GridSearchCV(estimator=svm_model, param_grid=parameters, scoring='accuracy', cv=kf)\n",
    "\n",
    "grid_search_svm.fit(X_train, y_train)\n",
    "\n",
    "# Meilleurs hyperparamètres \n",
    "print(\"Meilleurs hyperparamètres : \", grid_search_svm.best_params_)\n",
    "\n",
    "# Prédication avec les meilleurs paramètres\n",
    "y_predict = grid_search_svm.predict(X_test)\n",
    "\n",
    "#Accuracy\n",
    "accuracy = accuracy_score(y_test, y_predict)\n",
    "print(\"Accuracy : \", accuracy)\n",
    "\n",
    "#Rapport de classification\n",
    "class_report = classification_report(y_test, y_predict)\n",
    "print(\" Rapport de classification : \")\n",
    "print(class_report)\n",
    "\n",
    "# Confusion matrix\n",
    "conf_matrix = confusion_matrix(y_test, y_predict)\n",
    "print(\"Confusion matrix : \")\n",
    "print(conf_matrix)"
   ]
  },
  {
   "cell_type": "markdown",
   "metadata": {},
   "source": [
    "## Random Forest"
   ]
  },
  {
   "cell_type": "code",
   "execution_count": 3,
   "metadata": {},
   "outputs": [
    {
     "name": "stdout",
     "output_type": "stream",
     "text": [
      "Meilleurs hyperparamètres :  {'criterion': 'gini', 'max_depth': 500, 'min_samples_split': 10, 'n_estimators': 100}\n",
      "Accuracy :  0.7780612244897959\n",
      " Rapport de classification : \n",
      "              precision    recall  f1-score   support\n",
      "\n",
      "       False       0.79      0.82      0.81       220\n",
      "        True       0.76      0.72      0.74       172\n",
      "\n",
      "    accuracy                           0.78       392\n",
      "   macro avg       0.78      0.77      0.77       392\n",
      "weighted avg       0.78      0.78      0.78       392\n",
      "\n",
      "Confusion matrix : \n",
      "[[181  39]\n",
      " [ 48 124]]\n"
     ]
    }
   ],
   "source": [
    "rdf_model = RandomForestClassifier()\n",
    "\n",
    "kf = KFold(n_splits=5, shuffle=True, random_state=1)\n",
    "\n",
    "parameters = {\n",
    "    'n_estimators': [10, 100, 500],  \n",
    "    'criterion': ['gini', 'entropy'],  \n",
    "    'max_depth': [10, 100, 500],\n",
    "    'min_samples_split': [2, 10, 50, 100] \n",
    "}\n",
    "\n",
    "grid_search_rdf = GridSearchCV(estimator=rdf_model, param_grid=parameters, scoring='accuracy', cv=kf, )\n",
    "\n",
    "grid_search_rdf.fit(X_train, y_train)\n",
    "\n",
    "# Meilleurs hyperparamètres \n",
    "print(\"Meilleurs hyperparamètres : \", grid_search_rdf.best_params_)\n",
    "\n",
    "# Résultats avec Train\n",
    "y_predict = grid_search_rdf.predict(X_test)\n",
    "\n",
    "#Accuracy\n",
    "accuracy = accuracy_score(y_test, y_predict)\n",
    "print(\"Accuracy : \", accuracy)\n",
    "\n",
    "#Rapport de classification\n",
    "class_report = classification_report(y_test, y_predict)\n",
    "print(\" Rapport de classification : \")\n",
    "print(class_report)\n",
    "\n",
    "# Confusion matrix\n",
    "conf_matrix = confusion_matrix(y_test, y_predict)\n",
    "print(\"Confusion matrix : \")\n",
    "print(conf_matrix)"
   ]
  },
  {
   "cell_type": "markdown",
   "metadata": {},
   "source": [
    "## AdaBoost"
   ]
  },
  {
   "cell_type": "code",
   "execution_count": 4,
   "metadata": {},
   "outputs": [
    {
     "name": "stdout",
     "output_type": "stream",
     "text": [
      "Meilleurs hyperparamètres :  {'learning_rate': 0.5, 'n_estimators': 50}\n",
      "Accuracy :  0.7678571428571429\n",
      " Rapport de classification : \n",
      "              precision    recall  f1-score   support\n",
      "\n",
      "       False       0.77      0.84      0.80       220\n",
      "        True       0.76      0.68      0.72       172\n",
      "\n",
      "    accuracy                           0.77       392\n",
      "   macro avg       0.77      0.76      0.76       392\n",
      "weighted avg       0.77      0.77      0.77       392\n",
      "\n",
      "Confusion matrix : \n",
      "[[184  36]\n",
      " [ 55 117]]\n"
     ]
    }
   ],
   "source": [
    "AdB_model = AdaBoostClassifier()\n",
    "\n",
    "kf = KFold(n_splits=5, shuffle=True, random_state=1)\n",
    "\n",
    "parameters = {\n",
    "    'n_estimators': [10, 50, 200],\n",
    "    'learning_rate': [0.5, 1.0, 10.0],\n",
    "}\n",
    "\n",
    "grid_search_adb = GridSearchCV(estimator=AdB_model, param_grid=parameters, scoring='accuracy', cv=kf, )\n",
    "\n",
    "grid_search_adb.fit(X_train, y_train)\n",
    "\n",
    "# Meilleurs hyperparamètres \n",
    "print(\"Meilleurs hyperparamètres : \", grid_search_adb.best_params_)\n",
    "\n",
    "# Résultats avec Train\n",
    "y_predict = grid_search_adb.predict(X_test)\n",
    "\n",
    "#Accuracy\n",
    "accuracy = accuracy_score(y_test, y_predict)\n",
    "print(\"Accuracy : \", accuracy)\n",
    "\n",
    "#Rapport de classification\n",
    "class_report = classification_report(y_test, y_predict)\n",
    "print(\" Rapport de classification : \")\n",
    "print(class_report)\n",
    "\n",
    "# Confusion matrix\n",
    "conf_matrix = confusion_matrix(y_test, y_predict)\n",
    "print(\"Confusion matrix : \")\n",
    "print(conf_matrix)"
   ]
  },
  {
   "cell_type": "markdown",
   "metadata": {},
   "source": [
    "## GrandientBoosting"
   ]
  },
  {
   "cell_type": "code",
   "execution_count": 5,
   "metadata": {},
   "outputs": [
    {
     "name": "stdout",
     "output_type": "stream",
     "text": [
      "Meilleurs hyperparamètres :  {'criterion': 'friedman_mse', 'learning_rate': 0.01, 'loss': 'deviance', 'n_estimators': 500}\n",
      "Accuracy :  0.7806122448979592\n",
      " Rapport de classification : \n",
      "              precision    recall  f1-score   support\n",
      "\n",
      "       False       0.79      0.84      0.81       220\n",
      "        True       0.77      0.71      0.74       172\n",
      "\n",
      "    accuracy                           0.78       392\n",
      "   macro avg       0.78      0.77      0.77       392\n",
      "weighted avg       0.78      0.78      0.78       392\n",
      "\n",
      "Confusion matrix : \n",
      "[[184  36]\n",
      " [ 50 122]]\n"
     ]
    }
   ],
   "source": [
    "GdB_model = GradientBoostingClassifier()\n",
    "\n",
    "kf = KFold(n_splits=5, shuffle=True, random_state=1)\n",
    "\n",
    "parameters = {\n",
    "    'loss': ['deviance', 'exponential'],\n",
    "    'n_estimators': [50, 200, 500],\n",
    "    'learning_rate': [0.01, 0.1, 0.5],\n",
    "    'criterion': ['friedman_mse', 'mse'], \n",
    "}\n",
    "\n",
    "grid_search_gdb = GridSearchCV(estimator=GdB_model, param_grid=parameters, scoring='accuracy', cv=kf)\n",
    "\n",
    "\n",
    "from sklearn.exceptions import FitFailedWarning\n",
    "import warnings\n",
    "warnings.filterwarnings('error', category=FitFailedWarning)\n",
    "\n",
    "try:\n",
    "    grid_search_gdb.fit(X_train, y_train)\n",
    "except FitFailedWarning as e:\n",
    "    print(\"FitFailedWarning:\", e)\n",
    "\n",
    "# Meilleurs hyperparamètres \n",
    "print(\"Meilleurs hyperparamètres : \", grid_search_gdb.best_params_)\n",
    "\n",
    "# Résultats avec Train\n",
    "y_predict = grid_search_gdb.predict(X_test)\n",
    "\n",
    "#Accuracy\n",
    "accuracy = accuracy_score(y_test, y_predict)\n",
    "print(\"Accuracy : \", accuracy)\n",
    "\n",
    "#Rapport de classification\n",
    "class_report = classification_report(y_test, y_predict)\n",
    "print(\" Rapport de classification : \")\n",
    "print(class_report)\n",
    "\n",
    "# Confusion matrix\n",
    "conf_matrix = confusion_matrix(y_test, y_predict)\n",
    "print(\"Confusion matrix : \")\n",
    "print(conf_matrix)"
   ]
  },
  {
   "cell_type": "markdown",
   "metadata": {},
   "source": [
    "# 2 - Application des modèles entrâinés sur d'autres dataset"
   ]
  },
  {
   "cell_type": "markdown",
   "metadata": {},
   "source": [
    "## Jeu de données de Nevada"
   ]
  },
  {
   "cell_type": "code",
   "execution_count": 6,
   "metadata": {},
   "outputs": [],
   "source": [
    "# Préparation des données\n",
    "X_all = pd.read_csv(\"./acsincome_ne_allfeaturesTP2.csv\")\n",
    "y_all = pd.read_csv(\"./acsincome_ne_labelTP2.csv\")\n",
    "\n",
    "X_all, y_all = shuffle(X_all, y_all, random_state=1)\n",
    "\n",
    "# only use the first N samples to limit training time\n",
    "num_samples = int(len(X_all)*0.01)\n",
    "X, y = X_all[:num_samples], y_all[:num_samples]\n",
    "\n",
    "X_scaled_ne = scaler.transform(X)\n",
    "y_scaled_ne = y['PINCP'].values"
   ]
  },
  {
   "cell_type": "code",
   "execution_count": 7,
   "metadata": {},
   "outputs": [
    {
     "name": "stdout",
     "output_type": "stream",
     "text": [
      "SVM Accuracy :  0.7850467289719626\n",
      "RDF Accuracy :  0.7476635514018691\n",
      "ADB Accuracy :  0.7383177570093458\n",
      "GDB Accuracy :  0.7383177570093458\n",
      "SVM Confusion matrix : \n",
      "[[184  36]\n",
      " [ 50 122]]\n",
      "RDF Confusion matrix : \n",
      "[[184  36]\n",
      " [ 50 122]]\n",
      "ADB Confusion matrix : \n",
      "[[184  36]\n",
      " [ 50 122]]\n",
      "GDB Confusion matrix : \n",
      "[[184  36]\n",
      " [ 50 122]]\n"
     ]
    }
   ],
   "source": [
    "y_predict_svm_ne = grid_search_svm.predict(X_scaled_ne)\n",
    "y_predict_rdf_ne = grid_search_rdf.predict(X_scaled_ne)\n",
    "y_predict_adb_ne = grid_search_adb.predict(X_scaled_ne)\n",
    "y_predict_gdb_ne = grid_search_gdb.predict(X_scaled_ne)\n",
    "\n",
    "#Accuracy\n",
    "accuracy = accuracy_score(y_scaled_ne, y_predict_svm_ne)\n",
    "print(\"SVM Accuracy : \", accuracy)\n",
    "accuracy = accuracy_score(y_scaled_ne, y_predict_rdf_ne)\n",
    "print(\"RDF Accuracy : \", accuracy)\n",
    "accuracy = accuracy_score(y_scaled_ne, y_predict_adb_ne)\n",
    "print(\"ADB Accuracy : \", accuracy)\n",
    "accuracy = accuracy_score(y_scaled_ne, y_predict_gdb_ne)\n",
    "print(\"GDB Accuracy : \", accuracy)\n",
    "\n",
    "# Confusion matrix\n",
    "accuracy = confusion_matrix(y_scaled_ne, y_predict_svm_ne)\n",
    "print(\"SVM Confusion matrix : \")\n",
    "print(conf_matrix)\n",
    "accuracy = confusion_matrix(y_scaled_ne, y_predict_rdf_ne)\n",
    "print(\"RDF Confusion matrix : \")\n",
    "print(conf_matrix)\n",
    "accuracy = confusion_matrix(y_scaled_ne, y_predict_adb_ne)\n",
    "print(\"ADB Confusion matrix : \")\n",
    "print(conf_matrix)\n",
    "accuracy = confusion_matrix(y_scaled_ne, y_predict_gdb_ne)\n",
    "print(\"GDB Confusion matrix : \")\n",
    "print(conf_matrix)\n",
    "\n"
   ]
  },
  {
   "cell_type": "markdown",
   "metadata": {},
   "source": [
    "## Jeu de données de Colorado"
   ]
  },
  {
   "cell_type": "code",
   "execution_count": 8,
   "metadata": {},
   "outputs": [],
   "source": [
    "# Préparation des données\n",
    "X_all = pd.read_csv(\"acsincome_co_allfeaturesTP2.csv\")\n",
    "y_all = pd.read_csv(\"acsincome_co_labelTP2.csv\")\n",
    "\n",
    "X_all, y_all = shuffle(X_all, y_all, random_state=1)\n",
    "\n",
    "# only use the first N samples to limit training time\n",
    "num_samples = int(len(X_all)*0.01)\n",
    "X, y = X_all[:num_samples], y_all[:num_samples]\n",
    "\n",
    "X_scaled_co = scaler.transform(X)\n",
    "y_scaled_co = y['PINCP'].values"
   ]
  },
  {
   "cell_type": "code",
   "execution_count": 9,
   "metadata": {},
   "outputs": [
    {
     "name": "stdout",
     "output_type": "stream",
     "text": [
      "SVM Accuracy :  0.7507987220447284\n",
      "RDF Accuracy :  0.7507987220447284\n",
      "ADB Accuracy :  0.7380191693290735\n",
      "GDB Accuracy :  0.7539936102236422\n",
      "SVM Confusion matrix : \n",
      "[[184  36]\n",
      " [ 50 122]]\n",
      "RDF Confusion matrix : \n",
      "[[184  36]\n",
      " [ 50 122]]\n",
      "ADB Confusion matrix : \n",
      "[[184  36]\n",
      " [ 50 122]]\n",
      "GDB Confusion matrix : \n",
      "[[184  36]\n",
      " [ 50 122]]\n"
     ]
    }
   ],
   "source": [
    "y_predict_svm_co = grid_search_svm.predict(X_scaled_co)\n",
    "y_predict_rdf_co = grid_search_rdf.predict(X_scaled_co)\n",
    "y_predict_adb_co = grid_search_adb.predict(X_scaled_co)\n",
    "y_predict_gdb_co = grid_search_gdb.predict(X_scaled_co)\n",
    "\n",
    "#Accuracy\n",
    "accuracy = accuracy_score(y_scaled_co, y_predict_svm_co)\n",
    "print(\"SVM Accuracy : \", accuracy)\n",
    "accuracy = accuracy_score(y_scaled_co, y_predict_rdf_co)\n",
    "print(\"RDF Accuracy : \", accuracy)\n",
    "accuracy = accuracy_score(y_scaled_co, y_predict_adb_co)\n",
    "print(\"ADB Accuracy : \", accuracy)\n",
    "accuracy = accuracy_score(y_scaled_co, y_predict_gdb_co)\n",
    "print(\"GDB Accuracy : \", accuracy)\n",
    "\n",
    "# Confusion matrix\n",
    "accuracy = confusion_matrix(y_scaled_co, y_predict_svm_co)\n",
    "print(\"SVM Confusion matrix : \")\n",
    "print(conf_matrix)\n",
    "accuracy = confusion_matrix(y_scaled_co, y_predict_rdf_co)\n",
    "print(\"RDF Confusion matrix : \")\n",
    "print(conf_matrix)\n",
    "accuracy = confusion_matrix(y_scaled_co, y_predict_adb_co)\n",
    "print(\"ADB Confusion matrix : \")\n",
    "print(conf_matrix)\n",
    "accuracy = confusion_matrix(y_scaled_co, y_predict_gdb_co)\n",
    "print(\"GDB Confusion matrix : \")\n",
    "print(conf_matrix)"
   ]
  },
  {
   "cell_type": "code",
   "execution_count": null,
   "metadata": {},
   "outputs": [],
   "source": []
  }
 ],
 "metadata": {
  "kernelspec": {
   "display_name": "Python 3",
   "language": "python",
   "name": "python3"
  },
  "language_info": {
   "codemirror_mode": {
    "name": "ipython",
    "version": 3
   },
   "file_extension": ".py",
   "mimetype": "text/x-python",
   "name": "python",
   "nbconvert_exporter": "python",
   "pygments_lexer": "ipython3",
   "version": "3.8.5"
  }
 },
 "nbformat": 4,
 "nbformat_minor": 4
}
